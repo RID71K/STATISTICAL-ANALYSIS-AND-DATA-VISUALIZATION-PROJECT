{
 "cells": [
  {
   "cell_type": "markdown",
   "id": "weird-recovery",
   "metadata": {},
   "source": [
    "# Assignment-2: Statistics and Probability Distribution\n",
    "\n",
    "Make a copy of `Assignment-2-Statistics and Probability Distributions.ipynb` python notebook and rename it to `Assignment-2-<YOUR_NAME>`. Read the exercises provided in the given python notebook. Write and execute your solution in the respective code shell. Submit your python notebook after completing all the exercises.\n",
    "\n",
    "Total Marks: **8**\n",
    "\n",
    "### HINT\n",
    "- Use `numpy` python library to find mean, median and standard deviation for the given sequence of numbers\n",
    "- Use `matplotlib` python library to plot the histogram \n",
    "\n",
    "### Excercise-1 ( 1 Mark)\n",
    "John tracked his lunch bills for the past 5 days. He paid `$15.10, $12.05, $20.05, $17.75 and $16.25`. What was the average amount John paid per meal?  Print the result with 2 decimal places.      "
   ]
  },
  {
   "cell_type": "code",
   "execution_count": 2,
   "id": "fuzzy-shoot",
   "metadata": {},
   "outputs": [
    {
     "name": "stdout",
     "output_type": "stream",
     "text": [
      "Average is: $16.33 \n"
     ]
    }
   ],
   "source": [
    "import numpy as np\n",
    "bills=np.array([15.10,12.05,20.5,17.75,16.25])\n",
    "mean=np.mean(bills)\n",
    "print(f\"Average is: ${mean:.2f} \")"
   ]
  },
  {
   "cell_type": "markdown",
   "id": "floating-regard",
   "metadata": {},
   "source": [
    "### Excercise-2 ( 1 Mark)\n",
    "\n",
    "Mark received the following scores in his `Graphic Design` tests. His final grade is based on the mean of those scores. What will be John's final grade in that course? Print the result with 0 decimal places.\n",
    "\n",
    "77, 84, 89, 78, 92\n"
   ]
  },
  {
   "cell_type": "code",
   "execution_count": 6,
   "id": "apparent-immune",
   "metadata": {},
   "outputs": [
    {
     "name": "stdout",
     "output_type": "stream",
     "text": [
      "Final grade is $84\n"
     ]
    }
   ],
   "source": [
    "### Your solution goes here\n",
    "import numpy as np\n",
    "grades=np.array([77,84,89,78,92])\n",
    "final=np.mean(grades)\n",
    "print(f\"Final grade is ${final:.0f}\")\n"
   ]
  },
  {
   "cell_type": "markdown",
   "id": "waiting-america",
   "metadata": {},
   "source": [
    "### Excercise-3 ( 1 Mark)\n",
    "Find the median and standard deviation for the set of numbers given in Excercise 1 and 2"
   ]
  },
  {
   "cell_type": "code",
   "execution_count": 12,
   "id": "pending-employer",
   "metadata": {},
   "outputs": [
    {
     "name": "stdout",
     "output_type": "stream",
     "text": [
      "median is 48.75 standard deviation is 34.15\n"
     ]
    }
   ],
   "source": [
    "### Your solution goes here\n",
    "# Combining both sets\n",
    "all_marks=np.concatenate((bills,grades))\n",
    "all_median=np.median(all_marks)\n",
    "all_dev=np.std(all_marks)\n",
    "print(f\"median is {all_median} standard deviation is {all_dev:.2f}\")\n"
   ]
  },
  {
   "cell_type": "markdown",
   "id": "suburban-gossip",
   "metadata": {},
   "source": [
    "### Excercise-4 ( 3 Marks)\n",
    "#### 4.1) Plot a histogram for the given below age of population with respect to bin.\n",
    "\n",
    "| Population Age | 22,55,62,45,18,21,22,16,34,42,42,4,2,102,42,95,85,55,110,14,50,120,70,65,55,111,115,80,75,65,54,44,43,42,48  |\n",
    "| ---------------|--------------------------------------------------------------------------------------------------------------|\n",
    "| Bin            | 0-10 10-20 30-40 40-50 50-60 60-70 70-80 80-90 90-100 100-110                                                |\n",
    "\n",
    "#### 4.2) Change the bin interval to 50 and replot the histogram\n",
    "#### 4.3) Which age group has more number of people?"
   ]
  },
  {
   "cell_type": "code",
   "execution_count": 27,
   "id": "demonstrated-expert",
   "metadata": {},
   "outputs": [
    {
     "data": {
      "image/png": "[encoded data removed]",
      "text/plain": [
       "<Figure size 432x288 with 1 Axes>"
      ]
     },
     "metadata": {
      "needs_background": "light"
     },
     "output_type": "display_data"
    },
    {
     "data": {
      "image/png": "[encoded data removed]",
      "text/plain": [
       "<Figure size 432x288 with 1 Axes>"
      ]
     },
     "metadata": {
      "needs_background": "light"
     },
     "output_type": "display_data"
    }
   ],
   "source": [
    "### Your solution goes here\n",
    "import matplotlib.pyplot as plt\n",
    "\n",
    "# Population ages\n",
    "ages = [22,55,62,45,18,21,22,16,34,42,42,4,2,102,42,95,85,55,110,14,50,120,70,65,55,111,115,80,75,65,54,44,43,42,48]\n",
    "\n",
    "\n",
    "#4.1\n",
    "plt.hist(ages,bins=[0,10,20,30,40,50,60,70,80,90,100,110])\n",
    "plt.title(\"Population Age Distribution\")\n",
    "plt.xlabel(\"Age\")\n",
    "plt.ylabel(\"Frequency\")\n",
    "plt.show()\n",
    "\n",
    "#4.2\n",
    "plt.hist(ages,bins=[0,50,100,150])\n",
    "plt.title(\"Population Age Distribution with Bin interval 50\")\n",
    "plt.xlabel(\"Age\")\n",
    "plt.ylabel(\"Frequency\")\n",
    "plt.show()\n",
    "\n",
    "\n",
    "#4.3\n",
    "#In the first histogram the most populous group is the 40-50 age range\n",
    "#In the second histogram the most populous group is the 0-59 age range\n"
   ]
  },
  {
   "cell_type": "markdown",
   "id": "hired-trout",
   "metadata": {},
   "source": [
    "### Excercise-5 ( 1 Mark)\n",
    "Plot a cumulative distributive function (CDF) for the data given in excercise-4.1"
   ]
  },
  {
   "cell_type": "code",
   "execution_count": 36,
   "id": "funky-compiler",
   "metadata": {},
   "outputs": [
    {
     "data": {
      "image/png": "[encoded data removed]",
      "text/plain": [
       "<Figure size 432x288 with 1 Axes>"
      ]
     },
     "metadata": {
      "needs_background": "light"
     },
     "output_type": "display_data"
    }
   ],
   "source": [
    "### Your solution goes here\n",
    "\n",
    "plt.hist(ages,bins=[0,10,20,30,40,50,60,70,80,90,100,110,120],cumulative=True,histtype='step')\n",
    "plt.title(\"Cumulative Distribution Function for Population Ages\")\n",
    "plt.xlabel(\"Age\")\n",
    "plt.ylabel(\"Cumulative Frequency\")\n",
    "plt.grid(True)\n",
    "plt.show()"
   ]
  },
  {
   "cell_type": "markdown",
   "id": "south-oxygen",
   "metadata": {},
   "source": [
    "### Excercise-6 ( 1 Mark)\n",
    "Using `linespace` method from `numpy` library create *200* sample data between the interval *1 and 50*. Plot the **normal distribution** using `matplotlib` library for the sample data."
   ]
  },
  {
   "cell_type": "code",
   "execution_count": 48,
   "id": "meaningful-madagascar",
   "metadata": {},
   "outputs": [
    {
     "data": {
      "image/png": "[encoded data removed]",
      "text/plain": [
       "<Figure size 432x288 with 1 Axes>"
      ]
     },
     "metadata": {
      "needs_background": "light"
     },
     "output_type": "display_data"
    }
   ],
   "source": [
    "### Your solution goes here\n",
    "\n",
    "#sample_data = np.linspace(1, 50, 200)\n",
    "data=np.linspace(1,50,200)\n",
    "plt.plot(data,np.random.normal(0,1,200),'o')\n",
    "plt.title(\"Normal Distribution of Sample Data\")\n",
    "plt.xlabel(\"Sample Data\")\n",
    "plt.ylabel(\"Normal Frequency\")\n",
    "plt.show()\n",
    "\n"
   ]
  },
  {
   "cell_type": "code",
   "execution_count": null,
   "id": "43b2a255-81d8-4557-9b3f-def01613dd7b",
   "metadata": {},
   "outputs": [],
   "source": []
  }
 ],
 "metadata": {
  "kernelspec": {
   "display_name": "Python 3",
   "language": "python",
   "name": "python3"
  },
  "language_info": {
   "codemirror_mode": {
    "name": "ipython",
    "version": 3
   },
   "file_extension": ".py",
   "mimetype": "text/x-python",
   "name": "python",
   "nbconvert_exporter": "python",
   "pygments_lexer": "ipython3",
   "version": "3.8.8"
  }
 },
 "nbformat": 4,
 "nbformat_minor": 5
}
